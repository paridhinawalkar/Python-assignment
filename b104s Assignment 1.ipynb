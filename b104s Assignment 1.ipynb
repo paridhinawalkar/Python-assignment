{
 "cells": [
  {
   "cell_type": "markdown",
   "id": "17518470-8ac8-4d63-a5ec-9a80c05da41e",
   "metadata": {},
   "source": [
    "## ** What is 7 to the power of 4?**"
   ]
  },
  {
   "cell_type": "code",
   "execution_count": 1,
   "id": "22798ccc-a564-470f-8993-f832d32431f2",
   "metadata": {},
   "outputs": [
    {
     "data": {
      "text/plain": [
       "2401"
      ]
     },
     "execution_count": 1,
     "metadata": {},
     "output_type": "execute_result"
    }
   ],
   "source": [
    "7**4"
   ]
  },
  {
   "cell_type": "markdown",
   "id": "5c28ba90-1769-4cd5-b883-3b54da603938",
   "metadata": {},
   "source": [
    "## ** Split this string:**"
   ]
  },
  {
   "cell_type": "code",
   "execution_count": 3,
   "id": "ec91a0e0-b858-45ac-9ee1-f6ec992481f4",
   "metadata": {},
   "outputs": [],
   "source": [
    "s = \"Hi there Yogesh!\""
   ]
  },
  {
   "cell_type": "code",
   "execution_count": 7,
   "id": "7cb2f798-1c7a-44ad-80f6-c608fdaed81e",
   "metadata": {},
   "outputs": [
    {
     "data": {
      "text/plain": [
       "['Hi', 'there', 'Yogesh!']"
      ]
     },
     "execution_count": 7,
     "metadata": {},
     "output_type": "execute_result"
    }
   ],
   "source": [
    "list(s.split(\" \"))"
   ]
  },
  {
   "cell_type": "markdown",
   "id": "51b54eb1-b6e7-4bbe-8015-06eac41fbf25",
   "metadata": {},
   "source": [
    "### ** Use .format() to print the following string: **"
   ]
  },
  {
   "cell_type": "code",
   "execution_count": 9,
   "id": "88402b02-5976-4752-bbb1-f8d29c1c5577",
   "metadata": {},
   "outputs": [],
   "source": [
    "planet = \"Earth\"\n",
    "diameter = 12742"
   ]
  },
  {
   "cell_type": "code",
   "execution_count": 10,
   "id": "ec61a933-193b-4830-af47-d99565063fde",
   "metadata": {},
   "outputs": [
    {
     "data": {
      "text/plain": [
       "'The diameter of Earth is 12742 km.'"
      ]
     },
     "execution_count": 10,
     "metadata": {},
     "output_type": "execute_result"
    }
   ],
   "source": [
    "\"The diameter of {} is {} km.\".format(planet,diameter)"
   ]
  },
  {
   "cell_type": "markdown",
   "id": "7c0c1c78-32f7-45a4-a809-191e3fc5220f",
   "metadata": {},
   "source": [
    "### Given this nested list, use indexing to grab the word \"hello\""
   ]
  },
  {
   "cell_type": "code",
   "execution_count": 15,
   "id": "b33778c6-a044-481c-b23c-9cbc2e0da8ea",
   "metadata": {},
   "outputs": [
    {
     "name": "stdout",
     "output_type": "stream",
     "text": [
      "['hello']\n"
     ]
    }
   ],
   "source": [
    "lst = [1,2,[3,4],[5,[100,200,['hello']],23,11],1,7]\n",
    "print(lst[3][1][-1])"
   ]
  },
  {
   "cell_type": "markdown",
   "id": "3bc4a22d-259b-402c-a3ea-9dba6b64a453",
   "metadata": {},
   "source": [
    "### Given this nested dictionary grab the word \"hello\". Be prepared, this will be annoying/tricky"
   ]
  },
  {
   "cell_type": "code",
   "execution_count": 20,
   "id": "c82aa7c9-e72e-4fe2-b826-94e0686bad9c",
   "metadata": {},
   "outputs": [
    {
     "name": "stdout",
     "output_type": "stream",
     "text": [
      "hello\n"
     ]
    }
   ],
   "source": [
    "d = {'k1':[1,2,3,{'tricky':['oh','man','inception',{'target':[1,2,3,'hello']}]}]}\n",
    "print(d['k1'][3]['tricky'][3]['target'][-1])"
   ]
  },
  {
   "cell_type": "markdown",
   "id": "daf46736-da5a-4377-9d19-202f8651e078",
   "metadata": {},
   "source": [
    "### or"
   ]
  },
  {
   "cell_type": "code",
   "execution_count": 25,
   "id": "8001f800-fbf9-4b44-9bbb-7d7b9b7e6cd6",
   "metadata": {},
   "outputs": [
    {
     "name": "stdout",
     "output_type": "stream",
     "text": [
      "hello\n"
     ]
    }
   ],
   "source": [
    "print(d['k1'][-1]['tricky'][-1]['target'][-1])"
   ]
  },
  {
   "cell_type": "markdown",
   "id": "8c240342-b794-4f3f-bdb7-1e10e0b9591a",
   "metadata": {},
   "source": [
    "### What is the main difference between a tuple and a list?\n",
    "### Tuple is immutable"
   ]
  },
  {
   "cell_type": "code",
   "execution_count": 26,
   "id": "4e4c1ada-d42b-48d2-8ab5-f4a85f58b4c9",
   "metadata": {},
   "outputs": [
    {
     "name": "stdout",
     "output_type": "stream",
     "text": [
      "[1, 2, 30, 4, 5]\n"
     ]
    }
   ],
   "source": [
    "#For example :\n",
    "list = [1,2,3,4,5]\n",
    "list[2]=30\n",
    "print(list)"
   ]
  },
  {
   "cell_type": "code",
   "execution_count": 27,
   "id": "e59c1835-95c6-4bf8-b4f2-3a3b221c27cf",
   "metadata": {},
   "outputs": [
    {
     "ename": "TypeError",
     "evalue": "'tuple' object does not support item assignment",
     "output_type": "error",
     "traceback": [
      "\u001b[1;31m---------------------------------------------------------------------------\u001b[0m",
      "\u001b[1;31mTypeError\u001b[0m                                 Traceback (most recent call last)",
      "Cell \u001b[1;32mIn[27], line 2\u001b[0m\n\u001b[0;32m      1\u001b[0m \u001b[38;5;28mtuple\u001b[39m\u001b[38;5;241m=\u001b[39m (\u001b[38;5;241m1\u001b[39m,\u001b[38;5;241m2\u001b[39m,\u001b[38;5;241m3\u001b[39m,\u001b[38;5;241m4\u001b[39m,\u001b[38;5;241m5\u001b[39m)\n\u001b[1;32m----> 2\u001b[0m \u001b[38;5;28;43mtuple\u001b[39;49m\u001b[43m[\u001b[49m\u001b[38;5;241;43m2\u001b[39;49m\u001b[43m]\u001b[49m\u001b[38;5;241m=\u001b[39m\u001b[38;5;241m30\u001b[39m\n\u001b[0;32m      3\u001b[0m \u001b[38;5;28mprint\u001b[39m(\u001b[38;5;28mtuple\u001b[39m)\n",
      "\u001b[1;31mTypeError\u001b[0m: 'tuple' object does not support item assignment"
     ]
    }
   ],
   "source": [
    "tuple= (1,2,3,4,5)\n",
    "tuple[2]=30\n",
    "print(tuple)"
   ]
  },
  {
   "cell_type": "markdown",
   "id": "da53b2d3-5c35-4a29-be11-c8f58bc604ff",
   "metadata": {},
   "source": [
    "### Create a function that grabs the email website domain from a string in the form:"
   ]
  },
  {
   "cell_type": "code",
   "execution_count": 33,
   "id": "233bce97-663d-4b6d-9807-454ae8fc908e",
   "metadata": {},
   "outputs": [
    {
     "name": "stdin",
     "output_type": "stream",
     "text": [
      "Enter email :  Hi@gmail.com\n"
     ]
    },
    {
     "name": "stdout",
     "output_type": "stream",
     "text": [
      "gmail.com\n"
     ]
    }
   ],
   "source": [
    "def fun() : \n",
    "    email = input(\"Enter email : \")\n",
    "    print(email.split('@')[-1])\n",
    "fun()"
   ]
  },
  {
   "cell_type": "markdown",
   "id": "afab4efb-4704-4a65-8c6c-a92362da144b",
   "metadata": {},
   "source": [
    "#### Create a basic function that returns True if the word 'dog' is contained in the input string. Don't worry about edge cases like a punctuation being attached to the word dog,"
   ]
  },
  {
   "cell_type": "code",
   "execution_count": 40,
   "id": "c396b288-2ffb-4753-9881-18eddeab4f2c",
   "metadata": {},
   "outputs": [
    {
     "name": "stdin",
     "output_type": "stream",
     "text": [
      "Enter :  hi dog\n"
     ]
    },
    {
     "data": {
      "text/plain": [
       "True"
      ]
     },
     "execution_count": 40,
     "metadata": {},
     "output_type": "execute_result"
    }
   ],
   "source": [
    "def func() :\n",
    "    s=input(\"Enter : \")\n",
    "    if 'dog' in s :\n",
    "        return True\n",
    "func()"
   ]
  },
  {
   "cell_type": "markdown",
   "id": "7d7bf228-3706-4040-b8b6-eceb4f440bab",
   "metadata": {},
   "source": [
    "### Create a function that counts the number of times the word \"dog\" occurs in a string. Again ignore edge cases"
   ]
  },
  {
   "cell_type": "code",
   "execution_count": 45,
   "id": "e76a2213-80f7-43d1-aeb7-73d7a80ba5da",
   "metadata": {},
   "outputs": [
    {
     "name": "stdout",
     "output_type": "stream",
     "text": [
      "2\n"
     ]
    }
   ],
   "source": [
    "def countDog(a) :\n",
    "    cnt=0\n",
    "    for i in a.split():\n",
    "        if i=='dog' :\n",
    "            cnt=cnt+1\n",
    "    print(cnt)\n",
    "countDog('This dog runs faster than the other dog dude!')\n"
   ]
  },
  {
   "cell_type": "code",
   "execution_count": 47,
   "id": "92c5a9b7-09f9-4576-a8e0-c3c163d0d44c",
   "metadata": {},
   "outputs": [
    {
     "name": "stdout",
     "output_type": "stream",
     "text": [
      "4\n"
     ]
    }
   ],
   "source": [
    "def countDog(a) :\n",
    "    cnt=0\n",
    "    for i in a.lower().split():\n",
    "        if i=='dog' :\n",
    "            cnt=cnt+1\n",
    "    print(cnt)\n",
    "countDog('Dog dog runs dOg faster than the other dog dude!')\n"
   ]
  },
  {
   "cell_type": "markdown",
   "id": "b409225e-6cb2-40c0-a31f-bb5036c164df",
   "metadata": {},
   "source": [
    "### Use lambda expressions and the filter() function to filter out words from a list that don't start with the letter 's'."
   ]
  },
  {
   "cell_type": "code",
   "execution_count": 1,
   "id": "299f4e6a-c5da-4089-9027-9fe5584b9f3d",
   "metadata": {},
   "outputs": [],
   "source": [
    "seq = ['soup','dog','salad','cat','great']"
   ]
  },
  {
   "cell_type": "code",
   "execution_count": 2,
   "id": "d111acdd-dd8e-4a51-9d55-ed933c450d3f",
   "metadata": {},
   "outputs": [
    {
     "data": {
      "text/plain": [
       "['soup', 'salad']"
      ]
     },
     "execution_count": 2,
     "metadata": {},
     "output_type": "execute_result"
    }
   ],
   "source": [
    "list(filter(lambda x:x[0]=='s',seq))"
   ]
  },
  {
   "cell_type": "code",
   "execution_count": 6,
   "id": "b4641ef5-b630-4b4e-b871-e5283145e6f9",
   "metadata": {},
   "outputs": [
    {
     "name": "stdin",
     "output_type": "stream",
     "text": [
      "enter speed :  60\n",
      "Enter Birtday :  True\n"
     ]
    },
    {
     "name": "stdout",
     "output_type": "stream",
     "text": [
      "No Ticket\n"
     ]
    }
   ],
   "source": [
    "def speed(s,b) :\n",
    "    if b==True:\n",
    "        if s<=60+5 :\n",
    "            print(\"No Ticket\")\n",
    "        elif 60+5<s<81+5 :\n",
    "            print(\"Small Ticket\")\n",
    "        elif s>=81+5 :\n",
    "            print(\"Big Ticket\")\n",
    "    else :\n",
    "        if s<=60 :\n",
    "            print(\"No Ticket\")\n",
    "        elif 60 <s<81 :\n",
    "            print(\"Small Ticket\")\n",
    "        elif s>=81 :\n",
    "            print(\"Big Ticket\")\n",
    "a=int(input(\"enter speed : \"))\n",
    "c=input(\"Enter Birtday : \")\n",
    "speed(a,c)"
   ]
  },
  {
   "cell_type": "code",
   "execution_count": 7,
   "id": "25c4609d-9aaa-4f58-a7f1-759e59270002",
   "metadata": {},
   "outputs": [
    {
     "name": "stdout",
     "output_type": "stream",
     "text": [
      "Small Ticket\n"
     ]
    }
   ],
   "source": [
    "speed(81,True)"
   ]
  },
  {
   "cell_type": "code",
   "execution_count": 8,
   "id": "e383f470-dc80-4426-b3ca-d72aed3ed8af",
   "metadata": {},
   "outputs": [
    {
     "name": "stdout",
     "output_type": "stream",
     "text": [
      "Big Ticket\n"
     ]
    }
   ],
   "source": [
    "speed(81,False)"
   ]
  },
  {
   "cell_type": "markdown",
   "id": "b0c4ec2e-7509-4c01-abb1-7ef19333d260",
   "metadata": {},
   "source": [
    "### Question\n",
    "Given a string print number num by extracting all the\n",
    "digits from the string as in string\n",
    "Print negative number if the first character in \n",
    "string is '-'\n",
    "eg.\n",
    "-123abcd should return -123,abcd456-->456,fdhfh78dsd89--->7889,-56dssd78-->-5678"
   ]
  },
  {
   "cell_type": "code",
   "execution_count": 4,
   "id": "5a836e95-d5a8-44b9-84a8-cb05f903aadb",
   "metadata": {},
   "outputs": [],
   "source": [
    "def digit() :\n",
    "    a = input(\"Enter String : \")\n",
    "    for i in a :\n",
    "     if i.isdigit() or i=='-' :\n",
    "        print(i,end=\"\")"
   ]
  },
  {
   "cell_type": "code",
   "execution_count": 5,
   "id": "8f4bacf3-3933-47af-a98f-7edbf1998e40",
   "metadata": {},
   "outputs": [
    {
     "name": "stdin",
     "output_type": "stream",
     "text": [
      "Enter String :  -123abcd\n"
     ]
    },
    {
     "name": "stdout",
     "output_type": "stream",
     "text": [
      "-123"
     ]
    }
   ],
   "source": [
    "digit()"
   ]
  },
  {
   "cell_type": "code",
   "execution_count": 13,
   "id": "e3198bae-0ec6-438f-a323-17fc5aa5fe33",
   "metadata": {},
   "outputs": [
    {
     "name": "stdin",
     "output_type": "stream",
     "text": [
      "Enter String :  abcd456\n"
     ]
    },
    {
     "name": "stdout",
     "output_type": "stream",
     "text": [
      "456"
     ]
    }
   ],
   "source": [
    "digit()"
   ]
  },
  {
   "cell_type": "code",
   "execution_count": 6,
   "id": "73d4b6de-dba7-46ab-8a0d-37ec6fe3e563",
   "metadata": {},
   "outputs": [
    {
     "name": "stdin",
     "output_type": "stream",
     "text": [
      "Enter String :  fdhfh78dsd89\n"
     ]
    },
    {
     "name": "stdout",
     "output_type": "stream",
     "text": [
      "7889"
     ]
    }
   ],
   "source": [
    "digit()"
   ]
  },
  {
   "cell_type": "code",
   "execution_count": 7,
   "id": "1595ed2a-0c7c-4bd4-add8-aeca9e7e60ce",
   "metadata": {},
   "outputs": [
    {
     "name": "stdin",
     "output_type": "stream",
     "text": [
      "Enter String :  -56dssd78\n"
     ]
    },
    {
     "name": "stdout",
     "output_type": "stream",
     "text": [
      "-5678"
     ]
    }
   ],
   "source": [
    "digit()"
   ]
  },
  {
   "cell_type": "markdown",
   "id": "cbbccd58-8dce-420c-b7d9-48d668a02f99",
   "metadata": {},
   "source": [
    "### Q2\n",
    "WAP to check whether a number is palindrome or not on following conditions.\n",
    "1. take input number\n",
    "2. add number and its reverse\n",
    "3. check that number is palindrome or not,if not then sum and its reverse"
   ]
  },
  {
   "cell_type": "code",
   "execution_count": 16,
   "id": "c7120367-904b-4caf-a25e-b127dfead6fe",
   "metadata": {},
   "outputs": [
    {
     "name": "stdin",
     "output_type": "stream",
     "text": [
      "Enter No. :  135\n"
     ]
    },
    {
     "name": "stdout",
     "output_type": "stream",
     "text": [
      "Reverse is : 531\n",
      "It is not Palindrome\n",
      "Sum of actual no. and reverse is : 666\n",
      "Reverse is : 666\n",
      "It is Palindrome\n"
     ]
    }
   ],
   "source": [
    "a = int(input(\"Enter No. : \"))\n",
    "def reverse(a) :\n",
    "    n=a\n",
    "    r=0\n",
    "    while n>0 :\n",
    "        r=r*10+n%10\n",
    "        n=n//10\n",
    "    print(\"Reverse is :\",r)\n",
    "    if a==r :\n",
    "        print(\"It is Palindrome\")\n",
    "    else :\n",
    "        print(\"It is not Palindrome\")\n",
    "        b=a+r\n",
    "        print(\"Sum of actual no. and reverse is :\",b)\n",
    "        reverse(b)\n",
    "reverse(a)"
   ]
  },
  {
   "cell_type": "code",
   "execution_count": null,
   "id": "7d330fe4-ed84-4b35-9495-f5443e196856",
   "metadata": {},
   "outputs": [],
   "source": []
  }
 ],
 "metadata": {
  "kernelspec": {
   "display_name": "Python 3 (ipykernel)",
   "language": "python",
   "name": "python3"
  },
  "language_info": {
   "codemirror_mode": {
    "name": "ipython",
    "version": 3
   },
   "file_extension": ".py",
   "mimetype": "text/x-python",
   "name": "python",
   "nbconvert_exporter": "python",
   "pygments_lexer": "ipython3",
   "version": "3.12.6"
  }
 },
 "nbformat": 4,
 "nbformat_minor": 5
}
