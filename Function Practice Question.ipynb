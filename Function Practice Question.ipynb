{
 "cells": [
  {
   "cell_type": "markdown",
   "id": "aa1e2168-2f72-49b4-bdac-fe5da238089a",
   "metadata": {},
   "source": [
    "# Celsius To Fahrenheit\n",
    "\n",
    "### Problem Description:\n",
    "\n",
    "### You are given a temperature in Celsius. Your task is to convert it to Fahrenheit and return the result.\n",
    "\n",
    "- **Formula :**\n",
    "\n",
    "To convert Celsius to Fahrenheit, use the formula:\n",
    "\n",
    "**F = (9/5 * C) + 32**\n",
    "\n",
    "Where F is the temperature in Fahrenheit and C is the temperature in Celsius.\n",
    "\n",
    "\n",
    "\n",
    "**Input :**\n",
    "\n",
    "A floating-point number C representing the temperature in Celsius.\n",
    "\n",
    "\n",
    "\n",
    "**Output :**\n",
    "\n",
    "A floating-point number representing the temperature in Fahrenheit.\n",
    "\n",
    "\n",
    "\n",
    "**Example :**\n",
    "\n",
    "Input: C = 25\n",
    "Output: 77.0\n",
    " \n",
    "Input: C = 0\n",
    "Output: 32.0"
   ]
  },
  {
   "cell_type": "code",
   "execution_count": 2,
   "id": "5437b55c-00b8-496a-84c4-8a1b2480c1df",
   "metadata": {},
   "outputs": [],
   "source": [
    "def temp(celsius) :\n",
    "    f = (9/5 * celsius) + 32\n",
    "    print(f)"
   ]
  },
  {
   "cell_type": "code",
   "execution_count": 3,
   "id": "d181d9e6-0ecf-4908-af7c-261e24ed94d9",
   "metadata": {},
   "outputs": [
    {
     "name": "stdin",
     "output_type": "stream",
     "text": [
      "Enter celsius : 25\n"
     ]
    },
    {
     "name": "stdout",
     "output_type": "stream",
     "text": [
      "77.0\n"
     ]
    }
   ],
   "source": [
    "c = float(input(\"Enter celsius :\"))\n",
    "temp(c)"
   ]
  },
  {
   "cell_type": "code",
   "execution_count": 4,
   "id": "3aac8fa6-1eb2-4c00-8b13-173b92cb2740",
   "metadata": {},
   "outputs": [
    {
     "name": "stdin",
     "output_type": "stream",
     "text": [
      "Enter celsius : 0\n"
     ]
    },
    {
     "name": "stdout",
     "output_type": "stream",
     "text": [
      "32.0\n"
     ]
    }
   ],
   "source": [
    "c = float(input(\"Enter celsius :\"))\n",
    "temp(c)"
   ]
  },
  {
   "cell_type": "markdown",
   "id": "375568c1-2516-4a1c-91cb-d763fcab148b",
   "metadata": {},
   "source": [
    "-------------------------------------"
   ]
  },
  {
   "cell_type": "markdown",
   "id": "0abf9183-e5a5-48be-865b-308ca4cf0c03",
   "metadata": {},
   "source": [
    "# Area of a Rectangle\n",
    "\n",
    "## Problem Description:\n",
    "\n",
    "### You are given the length and breadth of a rectangle. Your task is to compute and return the area of the rectangle.\n",
    "\n",
    "**Formula :**\n",
    "\n",
    "To calculate the area of a rectangle:\n",
    "\n",
    "Area=length×breadth\n",
    "\n",
    "\n",
    "\n",
    "**Input :**\n",
    "\n",
    "Two floating-point numbers, length and breadth, representing the dimensions of the rectangle.\n",
    "\n",
    "\n",
    "\n",
    "**Output :**\n",
    "\n",
    "A floating-point number representing the area of the rectangle.\n",
    "\n",
    "\n",
    "\n",
    "**Example :**\n",
    "\n",
    "Input: length = 5, breadth = 3\n",
    "Output: 15.0\n",
    " \n",
    "Input: length = 7.5, breadth = 2.4\n",
    "Output: 18.0"
   ]
  },
  {
   "cell_type": "code",
   "execution_count": 6,
   "id": "5f8d3a72-c1e5-422a-875d-415bf421c4b2",
   "metadata": {},
   "outputs": [],
   "source": [
    "def area(l,b) :\n",
    "    print(\"Area : \",l*b)\n",
    "def perimeter(l,b) :\n",
    "    print(\"Perimeter :\",2*(l+b))"
   ]
  },
  {
   "cell_type": "code",
   "execution_count": 7,
   "id": "28373ed6-26ac-4b6e-ac99-5440176dbb15",
   "metadata": {},
   "outputs": [
    {
     "name": "stdin",
     "output_type": "stream",
     "text": [
      "Enter length :  5\n",
      "Enter breadth :  3\n"
     ]
    },
    {
     "name": "stdout",
     "output_type": "stream",
     "text": [
      "Area :  15.0\n",
      "Perimeter : 16.0\n"
     ]
    }
   ],
   "source": [
    "a=float(input(\"Enter length : \"))\n",
    "b=float(input(\"Enter breadth : \"))\n",
    "ar = area(a,b)\n",
    "p = perimeter(a,b)"
   ]
  },
  {
   "cell_type": "code",
   "execution_count": 9,
   "id": "1f3169e8-752d-4748-a3e5-f54a72743f17",
   "metadata": {},
   "outputs": [
    {
     "name": "stdin",
     "output_type": "stream",
     "text": [
      "Enter length :  7.5\n",
      "Enter breadth :  2.4\n"
     ]
    },
    {
     "name": "stdout",
     "output_type": "stream",
     "text": [
      "Area :  18.0\n",
      "Perimeter : 19.8\n"
     ]
    }
   ],
   "source": [
    "a=float(input(\"Enter length : \"))\n",
    "b=float(input(\"Enter breadth : \"))\n",
    "ar = area(a,b)\n",
    "p = perimeter(a,b)"
   ]
  },
  {
   "cell_type": "markdown",
   "id": "47431fd1-a55c-4ba3-85b9-8f00008ff15e",
   "metadata": {},
   "source": [
    "---------------------------------"
   ]
  },
  {
   "cell_type": "markdown",
   "id": "e25e4c78-88e1-44ce-9b80-f14dcae369a4",
   "metadata": {},
   "source": [
    "# Distance Covered by a Vehicle\n",
    "\n",
    "## Problem Description:\n",
    "\n",
    "### You are given the speed of a vehicle and the time it has traveled. Your task is to compute and return the distance traveled by the vehicle.\n",
    "\n",
    "**Formula :**\n",
    "\n",
    "To calculate the distance traveled by a vehicle:\n",
    "\n",
    "Distance=Speed×Time\n",
    "\n",
    "\n",
    "\n",
    "**Input :**\n",
    "\n",
    "Two floating-point numbers, speed and time, representing the speed of the vehicle and the time it has been traveling.\n",
    "\n",
    "\n",
    "\n",
    "**Output :**\n",
    "\n",
    "A floating-point number representing the distance traveled.\n",
    "\n",
    "\n",
    "\n",
    "**Example :**\n",
    "\n",
    "Input: speed = 60, time = 2\n",
    "Output: 120.0\n",
    " \n",
    "Input: speed = 50.5, time = 1.5\n",
    "Output: 75.75"
   ]
  },
  {
   "cell_type": "code",
   "execution_count": 10,
   "id": "5bfde038-6f2c-4dac-90d3-4b6b830e00c9",
   "metadata": {},
   "outputs": [],
   "source": [
    "def speed() :\n",
    "    s = float(input(\"Enter speed : \"))\n",
    "    t = float(input(\"Enter time : \"))\n",
    "    print(\"Distance is : \",s*t)"
   ]
  },
  {
   "cell_type": "code",
   "execution_count": 11,
   "id": "6a210237-f6f9-46cd-ace7-368bbaf4c0bb",
   "metadata": {},
   "outputs": [
    {
     "name": "stdin",
     "output_type": "stream",
     "text": [
      "Enter speed :  60\n",
      "Enter time :  2\n"
     ]
    },
    {
     "name": "stdout",
     "output_type": "stream",
     "text": [
      "Distance is :  120.0\n"
     ]
    }
   ],
   "source": [
    "speed()"
   ]
  },
  {
   "cell_type": "code",
   "execution_count": 12,
   "id": "40af7b09-b4d6-4291-8e00-b865df62aab1",
   "metadata": {},
   "outputs": [
    {
     "name": "stdin",
     "output_type": "stream",
     "text": [
      "Enter speed :  50.5\n",
      "Enter time :  1.5\n"
     ]
    },
    {
     "name": "stdout",
     "output_type": "stream",
     "text": [
      "Distance is :  75.75\n"
     ]
    }
   ],
   "source": [
    "speed()"
   ]
  },
  {
   "cell_type": "markdown",
   "id": "744c5d13-2c70-4102-bd82-a6866d085142",
   "metadata": {},
   "source": [
    "-------------------------------------------"
   ]
  },
  {
   "cell_type": "markdown",
   "id": "3dad4256-943e-4850-99c8-856de2994962",
   "metadata": {},
   "source": [
    "# Number of Rounds of Lift\n",
    "\n",
    "## Problem Description:\n",
    "\n",
    "### You are given n, the total number of people, and capacity, the maximum number of people the lift can carry at a time. All people want to go from the ground floor to the top floor. Your task is to calculate the number of rounds the lift has to make to transport all the people to the top floor.\n",
    "\n",
    "\n",
    "\n",
    "**Input :**\n",
    "\n",
    "Two integers, n and capacity, where n is the total number of people, and capacity is the maximum number of people the lift can carry in one round.\n",
    "\n",
    "\n",
    "\n",
    "**Output :**\n",
    "\n",
    "An integer representing the number of rounds the lift needs to cover to transport all people to the top floor.\n",
    "\n",
    "\n",
    "\n",
    "**Example :**\n",
    "\n",
    "Input: n = 10, capacity = 3\n",
    "Output: 4\n",
    " \n",
    "Input: n = 7, capacity = 4\n",
    "Output: 2\n"
   ]
  },
  {
   "cell_type": "code",
   "execution_count": 14,
   "id": "99aaf6f1-626c-4c1c-8c08-10f638fa229d",
   "metadata": {},
   "outputs": [],
   "source": [
    "def lift() :\n",
    "    n = int(input(\"Total People : \"))\n",
    "    c = int(input(\"Enter capacity : \"))\n",
    "    if n%c==0 :\n",
    "        return n//c\n",
    "    else :\n",
    "        return (n//c)+1"
   ]
  },
  {
   "cell_type": "code",
   "execution_count": 15,
   "id": "dd076c02-e1e2-4d57-888e-312448c51a2d",
   "metadata": {},
   "outputs": [
    {
     "name": "stdin",
     "output_type": "stream",
     "text": [
      "Total People :  10\n",
      "Enter capacity :  3\n"
     ]
    },
    {
     "data": {
      "text/plain": [
       "4"
      ]
     },
     "execution_count": 15,
     "metadata": {},
     "output_type": "execute_result"
    }
   ],
   "source": [
    "lift()"
   ]
  },
  {
   "cell_type": "code",
   "execution_count": 16,
   "id": "7d686118-2e37-47e7-8f75-afcf32f52914",
   "metadata": {},
   "outputs": [
    {
     "name": "stdin",
     "output_type": "stream",
     "text": [
      "Total People :  7\n",
      "Enter capacity :  4\n"
     ]
    },
    {
     "data": {
      "text/plain": [
       "2"
      ]
     },
     "execution_count": 16,
     "metadata": {},
     "output_type": "execute_result"
    }
   ],
   "source": [
    "lift()"
   ]
  },
  {
   "cell_type": "markdown",
   "id": "e6a870ad-8721-4aea-bbab-ce140d9c62f1",
   "metadata": {},
   "source": [
    "----------------------------------"
   ]
  },
  {
   "cell_type": "markdown",
   "id": "b6e70381-ab49-4559-9e90-021241df5435",
   "metadata": {},
   "source": [
    "# Line Equation\n",
    "## Problem Description:\n",
    "\n",
    "You are given the slope m and the y-intercept b of a line, along with a value x. Your task is to calculate and return the value of y using the equation of a line in slope-intercept form:\n",
    "\n",
    "y=mx+b\n",
    "\n",
    "\n",
    "\n",
    "**Input :**\n",
    "\n",
    "Three floating-point numbers: slope, intercept, and x.\n",
    "\n",
    "\n",
    "\n",
    "**Output :**\n",
    "\n",
    "A floating-point number representing the value of yyy corresponding to the given xxx.\n",
    "\n",
    "\n",
    "\n",
    "**Example :**\n",
    "\n",
    "Input: slope = 2, intercept = 3, x = 4\n",
    "Output: 11.0\n",
    " \n",
    "Input: slope = 1.5, intercept = -2, x = 2\n",
    "Output: 1.0"
   ]
  },
  {
   "cell_type": "code",
   "execution_count": 19,
   "id": "4c110215-6f19-48be-9695-9ca91d92eb54",
   "metadata": {},
   "outputs": [],
   "source": [
    "def slope():\n",
    "    m=float(input(\"Slope : \"))\n",
    "    b=float(input(\"Intercept :\"))\n",
    "    x=float(input(\" X: \"))\n",
    "    return m*x+b"
   ]
  },
  {
   "cell_type": "code",
   "execution_count": 20,
   "id": "2868170c-a29d-48e7-8e93-1d8ec6c04d18",
   "metadata": {},
   "outputs": [
    {
     "name": "stdin",
     "output_type": "stream",
     "text": [
      "Slope :  2\n",
      "Intercept : 3\n",
      " X:  4\n"
     ]
    },
    {
     "data": {
      "text/plain": [
       "11.0"
      ]
     },
     "execution_count": 20,
     "metadata": {},
     "output_type": "execute_result"
    }
   ],
   "source": [
    "slope()"
   ]
  },
  {
   "cell_type": "code",
   "execution_count": null,
   "id": "19e65164-58dd-4abe-9e65-ab5d5f024083",
   "metadata": {},
   "outputs": [],
   "source": [
    "slope()"
   ]
  },
  {
   "cell_type": "markdown",
   "id": "fd9fff60-efa6-4bc1-9e06-a95b0af6eec1",
   "metadata": {},
   "source": [
    "----------------------------------"
   ]
  },
  {
   "cell_type": "markdown",
   "id": "57d29944-46eb-4f64-a328-b0058041b06b",
   "metadata": {},
   "source": [
    "## Great Job ..!!"
   ]
  },
  {
   "cell_type": "code",
   "execution_count": null,
   "id": "b3b6720e-1338-4e43-b8d6-54bc5878e2e0",
   "metadata": {},
   "outputs": [],
   "source": []
  }
 ],
 "metadata": {
  "kernelspec": {
   "display_name": "Python 3 (ipykernel)",
   "language": "python",
   "name": "python3"
  },
  "language_info": {
   "codemirror_mode": {
    "name": "ipython",
    "version": 3
   },
   "file_extension": ".py",
   "mimetype": "text/x-python",
   "name": "python",
   "nbconvert_exporter": "python",
   "pygments_lexer": "ipython3",
   "version": "3.12.6"
  }
 },
 "nbformat": 4,
 "nbformat_minor": 5
}
